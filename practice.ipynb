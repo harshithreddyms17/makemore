{
 "cells": [
  {
   "cell_type": "code",
   "execution_count": 1,
   "id": "61b8ff54-d6d9-4e72-88e2-5327c4ffb076",
   "metadata": {},
   "outputs": [],
   "source": [
    "import os"
   ]
  },
  {
   "cell_type": "code",
   "execution_count": 6,
   "id": "852a604f-0958-439b-85bd-161070ef911d",
   "metadata": {},
   "outputs": [
    {
     "data": {
      "text/plain": [
       "'harshith'"
      ]
     },
     "execution_count": 6,
     "metadata": {},
     "output_type": "execute_result"
    }
   ],
   "source": [
    "os.environ.get('NAME')"
   ]
  },
  {
   "cell_type": "code",
   "execution_count": 7,
   "id": "4cca7da8-5e3c-4591-af2f-fa5a73efda02",
   "metadata": {},
   "outputs": [
    {
     "name": "stdout",
     "output_type": "stream",
     "text": [
      "('/har/t', 'k')\n"
     ]
    }
   ],
   "source": [
    "print(os.path.split('/har/t/k'))"
   ]
  },
  {
   "cell_type": "code",
   "execution_count": 8,
   "id": "a5c7c4ab-3628-4fc9-8cb8-e8bfe6673f3c",
   "metadata": {},
   "outputs": [],
   "source": [
    "import csv"
   ]
  },
  {
   "cell_type": "code",
   "execution_count": 11,
   "id": "2cab5352-dadf-469c-b74f-cd765df58ce1",
   "metadata": {},
   "outputs": [
    {
     "name": "stdout",
     "output_type": "stream",
     "text": [
      "/mnt/c/Users/harsh/projects/andrej_karpathy\n"
     ]
    }
   ],
   "source": [
    "print(os.getcwd())"
   ]
  },
  {
   "cell_type": "code",
   "execution_count": 24,
   "id": "cd2c0437-2456-4384-8a7f-768b4fe2d820",
   "metadata": {},
   "outputs": [],
   "source": [
    "working_dir = os.path.join(os.getcwd(), 'datasets/details.csv')\n",
    "new_dir = os.path.join(os.getcwd(), 'datasets/new_csv.csv')"
   ]
  },
  {
   "cell_type": "code",
   "execution_count": 19,
   "id": "653f00b4-f262-4ff3-8e39-2e8d4af010a6",
   "metadata": {},
   "outputs": [
    {
     "name": "stdout",
     "output_type": "stream",
     "text": [
      "['first_name', 'last_name', 'email']\n",
      "['John', 'Doe', 'john.doe@example.com']\n",
      "['Jane', 'Smith', 'jane.smith@example.com']\n",
      "['Michael', 'Brown', 'michael.brown@example.com']\n",
      "['Emily', 'Davis', 'emily.davis@example.com']\n",
      "['Daniel', 'Johnson', 'daniel.johnson@example.com']\n",
      "['Sophia', 'Garcia', 'sophia.garcia@example.com']\n",
      "['William', 'Miller', 'william.miller@example.com']\n",
      "['Olivia', 'Martinez', 'olivia.martinez@example.com']\n",
      "['James', 'Hernandez', 'james.hernandez@example.com']\n",
      "['Ava', 'Lopez', 'ava.lopez@example.com']\n"
     ]
    }
   ],
   "source": [
    "with open(working_dir,'r') as file_reader: #csv.reader\n",
    "    csv_reader = csv.reader(file_reader)\n",
    "    for line in csv_reader:\n",
    "        print(line)\n",
    "    "
   ]
  },
  {
   "cell_type": "code",
   "execution_count": 39,
   "id": "31893b3a-1683-4809-9663-7b8cce764a36",
   "metadata": {},
   "outputs": [],
   "source": [
    "with open(working_dir,'r') as file_reader: #csv.writer\n",
    "    csv_reader = csv.reader(file_reader)\n",
    "    with open(new_dir,'w') as file_writer:\n",
    "        csv_writer = csv.writer(file_writer)\n",
    "        for line in csv_reader:\n",
    "            csv_writer.writerow(line)\n",
    "    "
   ]
  },
  {
   "cell_type": "code",
   "execution_count": 40,
   "id": "31a2c98f-8d1b-4819-9067-4b4498ec4d60",
   "metadata": {},
   "outputs": [
    {
     "name": "stdout",
     "output_type": "stream",
     "text": [
      "{'first_name': 'John', 'last_name': 'Doe', 'email': 'john.doe@example.com'}\n",
      "{'first_name': 'Jane', 'last_name': 'Smith', 'email': 'jane.smith@example.com'}\n",
      "{'first_name': 'Michael', 'last_name': 'Brown', 'email': 'michael.brown@example.com'}\n",
      "{'first_name': 'Emily', 'last_name': 'Davis', 'email': 'emily.davis@example.com'}\n",
      "{'first_name': 'Daniel', 'last_name': 'Johnson', 'email': 'daniel.johnson@example.com'}\n",
      "{'first_name': 'Sophia', 'last_name': 'Garcia', 'email': 'sophia.garcia@example.com'}\n",
      "{'first_name': 'William', 'last_name': 'Miller', 'email': 'william.miller@example.com'}\n",
      "{'first_name': 'Olivia', 'last_name': 'Martinez', 'email': 'olivia.martinez@example.com'}\n",
      "{'first_name': 'James', 'last_name': 'Hernandez', 'email': 'james.hernandez@example.com'}\n",
      "{'first_name': 'Ava', 'last_name': 'Lopez', 'email': 'ava.lopez@example.com'}\n"
     ]
    }
   ],
   "source": [
    "with open(new_dir,'r') as file_reader:\n",
    "    csv_reader = csv.DictReader(file_reader)\n",
    "    for line in csv_reader:\n",
    "        print(line)"
   ]
  },
  {
   "cell_type": "code",
   "execution_count": null,
   "id": "0bf40576-aec0-4fea-8873-777818fd3dfa",
   "metadata": {},
   "outputs": [],
   "source": []
  }
 ],
 "metadata": {
  "kernelspec": {
   "display_name": "Python 3 (ipykernel)",
   "language": "python",
   "name": "python3"
  },
  "language_info": {
   "codemirror_mode": {
    "name": "ipython",
    "version": 3
   },
   "file_extension": ".py",
   "mimetype": "text/x-python",
   "name": "python",
   "nbconvert_exporter": "python",
   "pygments_lexer": "ipython3",
   "version": "3.10.0"
  }
 },
 "nbformat": 4,
 "nbformat_minor": 5
}
